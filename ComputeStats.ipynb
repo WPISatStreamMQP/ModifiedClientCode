{
 "cells": [
  {
   "cell_type": "markdown",
   "id": "9fa61ad8-4b00-4850-a253-f64466b800bf",
   "metadata": {},
   "source": [
    "### Get length of video file"
   ]
  },
  {
   "cell_type": "code",
   "execution_count": null,
   "id": "234b62ac-4362-4ddf-b9b5-0c7e00222c10",
   "metadata": {},
   "outputs": [
    {
     "ename": "",
     "evalue": "",
     "output_type": "error",
     "traceback": [
      "\u001b[1;31mFailed to start the Kernel. \n",
      "\u001b[1;31m0.01s - Debugger warning: It seems that frozen modules are being used, which may\n",
      "\u001b[1;31m0.00s - make the debugger miss breakpoints. Please pass -Xfrozen_modules=off\n",
      "\u001b[1;31m0.00s - to python to disable frozen modules.\n",
      "\u001b[1;31m0.00s - Note: Debugging will proceed. Set PYDEVD_DISABLE_FILE_VALIDATION=1 to disable this validation.\n",
      "\u001b[1;31mBad address (C:\\projects\\libzmq\\src\\epoll.cpp:100). \n",
      "\u001b[1;31mView Jupyter <a href='command:jupyter.viewOutput'>log</a> for further details."
     ]
    }
   ],
   "source": [
    "# Find the first JS log file in the directory and find out how long the video is. I assume that all log data in this entire directory has the same length of video.\n",
    "import os\n",
    "import re\n",
    "SEC_IN_MIN = 60\n",
    "seg_lens = [\"5s\", \"10s\", \"20s\"]\n",
    "vid_length_pattern = re.compile(\"^LOG  [\\d\\.]+,([\\d\\.]+):.+$\", re.M)\n",
    "\n",
    "video_length_sec = None\n",
    "\n",
    "for seg_len in seg_lens:\n",
    "    dir_path = \"./{seg_len}\".format(seg_len = seg_len)\n",
    "    \n",
    "    for file_name in os.listdir(dir_path):\n",
    "        file_path = os.path.join(dir_path, file_name)\n",
    "        if not os.path.isdir(file_path): # Only looking to read directories (that are symlinks).\n",
    "            continue\n",
    "        jsLog_names = [filename for filename in os.listdir(file_path) if filename.startswith(\"Tester_\") and filename.endswith(\".log\")]\n",
    "        if len(jsLog_names) != 1:\n",
    "            continue\n",
    "        jsLog_name = jsLog_names[0]\n",
    "        \n",
    "        last_line = None\n",
    "        with open(os.path.join(file_path, jsLog_name), \"r\") as jsLog:\n",
    "            for line in jsLog:\n",
    "                pass\n",
    "            last_line = line\n",
    "        \n",
    "        match = vid_length_pattern.match(last_line)\n",
    "        if not match:\n",
    "            continue\n",
    "        video_length_sec = match.group(1)\n",
    "        break\n",
    "        \n",
    "    if video_length_sec is not None:\n",
    "        break\n",
    "\n",
    "video_length_sec = float(video_length_sec)\n",
    "print(\"Video length (sec): {vidlen}\".format(vidlen = video_length_sec))\n",
    "video_length_min = video_length_sec / SEC_IN_MIN"
   ]
  },
  {
   "cell_type": "code",
   "execution_count": null,
   "metadata": {
    "collapsed": false
   },
   "outputs": [
    {
     "ename": "",
     "evalue": "",
     "output_type": "error",
     "traceback": [
      "\u001b[1;31mFailed to start the Kernel. \n",
      "\u001b[1;31m0.01s - Debugger warning: It seems that frozen modules are being used, which may\n",
      "\u001b[1;31m0.00s - make the debugger miss breakpoints. Please pass -Xfrozen_modules=off\n",
      "\u001b[1;31m0.00s - to python to disable frozen modules.\n",
      "\u001b[1;31m0.00s - Note: Debugging will proceed. Set PYDEVD_DISABLE_FILE_VALIDATION=1 to disable this validation.\n",
      "\u001b[1;31mBad address (C:\\projects\\libzmq\\src\\epoll.cpp:100). \n",
      "\u001b[1;31mView Jupyter <a href='command:jupyter.viewOutput'>log</a> for further details."
     ]
    }
   ],
   "source": [
    "import os\n",
    "import csv\n",
    "import numpy as np\n",
    "\n",
    "def find_missing_and_out_of_order_values(data):\n",
    "    missing_values = []\n",
    "    out_of_order_values = []\n",
    "\n",
    "    for i, value in enumerate(data):\n",
    "        # Check if the current value is missing\n",
    "        if i not in data:\n",
    "            missing_values.append(i)\n",
    "\n",
    "        # Check if the current value is out of order\n",
    "        if i > 0 and value < data[i-1]:\n",
    "            out_of_order_values.append(data[i-1])\n",
    "            out_of_order_values.append(value)\n",
    "\n",
    "    return missing_values, out_of_order_values\n",
    "\n",
    "def count_elements_layered_list(nested_list):\n",
    "    count = 0\n",
    "    for element in nested_list:\n",
    "        if isinstance(element, list):\n",
    "            count += count_elements_layered_list(element)\n",
    "        else:\n",
    "            count += 1\n",
    "    return count\n",
    "\n",
    "def calculate_rtt(folder_path):\n",
    "    folder_path = folder_path\n",
    "    run_folders = [\"Run0\", \"Run1\", \"Run2\"]\n",
    "    all_packet_loss_seqs=[]\n",
    "    all_missing_seqs=[]\n",
    "    all_out_of_order_seqs=[]\n",
    "    rtt_list = []\n",
    "    receive_rates =[]\n",
    "    sends=[]\n",
    "\n",
    "    for run_folder in run_folders:\n",
    "        file_path = os.path.join(folder_path, run_folder, \"UDPing_log.csv\")\n",
    "        with open(file_path, \"r\") as csv_file:\n",
    "            csv_reader = csv.reader(csv_file)\n",
    "            next(csv_reader) # skip \"Pinging...\" row\n",
    "            next(csv_reader) # skip \"empty\" row\n",
    "            next(csv_reader) # skip header row\n",
    "            for row in csv_reader:\n",
    "                if \"Ping statistics\" in row[0]:\n",
    "                    break\n",
    "                rtt = float(row[2])\n",
    "                rtt_list.append(rtt)\n",
    "\n",
    "            send=int(csv_reader.__next__()[1])\n",
    "            receive=int(csv_reader.__next__()[1])\n",
    "            sends.append(send)\n",
    "            if receive == 0:\n",
    "                receive_rates.append(0) # There are cases that all packets got lost.\n",
    "            else:\n",
    "                receive_rates.append(send/receive)\n",
    "\n",
    "\n",
    "        #get the seq that is not one above the previous seq\n",
    "        with open(file_path, \"r\") as csv_file:\n",
    "            csv_reader = csv.reader(csv_file)\n",
    "            prev_seq=-9999\n",
    "            packet_loss_seqs=[]\n",
    "            next(csv_reader)  # skip \"Pinging...\" row\n",
    "            next(csv_reader)  # skip \"empty\" row\n",
    "            next(csv_reader)  # skip header row\n",
    "            for row in csv_reader:\n",
    "                if \"Ping statistics\" in row[0]:\n",
    "                    break\n",
    "\n",
    "                seq = int(row[3])\n",
    "                if prev_seq != -9999 and seq != prev_seq + 1:\n",
    "                    packet_loss_seqs.append(seq)\n",
    "                prev_seq = seq\n",
    "\n",
    "            print(packet_loss_seqs)\n",
    "            all_packet_loss_seqs.append(packet_loss_seqs)\n",
    "\n",
    "        #Find missing and out of order values\n",
    "        with open(file_path, \"r\") as csv_file:\n",
    "            seq_column = []\n",
    "            csv_reader = csv.reader(csv_file)\n",
    "            next(csv_reader)  # skip \"Pinging...\" row\n",
    "            next(csv_reader)  # skip \"empty\" row\n",
    "            next(csv_reader)  # skip header row\n",
    "            for row in csv_reader:\n",
    "                if \"Ping statistics\" in row[0]:\n",
    "                    break\n",
    "                seq_column.append(int(row[3]))\n",
    "            missing_values, out_of_order_values=find_missing_and_out_of_order_values(seq_column)\n",
    "            all_missing_seqs.append(missing_values)\n",
    "            all_out_of_order_seqs.append(out_of_order_values)\n",
    "\n",
    "    mean_rtt = np.mean(rtt_list)\n",
    "    std_rtt = np.std(rtt_list)\n",
    "    mean_receive_rate=np.mean(receive_rates)\n",
    "    std_receive_rate=np.std(receive_rates)\n",
    "\n",
    "    #calculate missing rate and out-of-order rate\n",
    "    missing_seqs_count=count_elements_layered_list(all_missing_seqs)\n",
    "    missing_seqs_rate=missing_seqs_count/sum(sends)\n",
    "\n",
    "    out_of_order_count=count_elements_layered_list(all_out_of_order_seqs)\n",
    "    out_of_order_rate=out_of_order_count/sum(sends)\n",
    "\n",
    "\n",
    "\n",
    "    return (mean_rtt, std_rtt,mean_receive_rate,std_receive_rate, all_packet_loss_seqs, all_missing_seqs, all_out_of_order_seqs, sends,missing_seqs_rate,out_of_order_rate)\n",
    "\n",
    "mean_rtt, std_rtt, mean_receive_rate, std_receive_rate, packet_loss_seqs, missing_seqs, out_of_order_seqs, sends,missing_seqs_rate,out_of_order_rate= calculate_rtt(\".\\\\5s\")\n",
    "print(\"Mean RTT:\", mean_rtt)\n",
    "print(\"Standard deviation of RTT:\", std_rtt)\n",
    "print(\"Mean Receive rate:\", mean_receive_rate)\n",
    "print(\"Standard deviation of Receive rate:\", std_receive_rate)\n",
    "print(\"Packet loss sequences:\", packet_loss_seqs)\n",
    "print(\"Packet loss sequences count:\", count_elements_layered_list(packet_loss_seqs))\n",
    "print(\"Missing sequences:\",missing_seqs)\n",
    "print(\"Missing sequences count:\", count_elements_layered_list(missing_seqs))\n",
    "print(\"Missing sequences rate:\", missing_seqs_rate)\n",
    "print(\"Out of order sequences:\",out_of_order_seqs)\n",
    "print(\"Out of order sequences count:\",count_elements_layered_list(out_of_order_seqs))\n",
    "print(\"Out of order rate:\",out_of_order_rate)"
   ]
  },
  {
   "cell_type": "code",
   "execution_count": null,
   "metadata": {
    "collapsed": false
   },
   "outputs": [
    {
     "ename": "",
     "evalue": "",
     "output_type": "error",
     "traceback": [
      "\u001b[1;31mFailed to start the Kernel. \n",
      "\u001b[1;31m0.01s - Debugger warning: It seems that frozen modules are being used, which may\n",
      "\u001b[1;31m0.00s - make the debugger miss breakpoints. Please pass -Xfrozen_modules=off\n",
      "\u001b[1;31m0.00s - to python to disable frozen modules.\n",
      "\u001b[1;31m0.00s - Note: Debugging will proceed. Set PYDEVD_DISABLE_FILE_VALIDATION=1 to disable this validation.\n",
      "\u001b[1;31mBad address (C:\\projects\\libzmq\\src\\epoll.cpp:100). \n",
      "\u001b[1;31mView Jupyter <a href='command:jupyter.viewOutput'>log</a> for further details."
     ]
    }
   ],
   "source": [
    "\n",
    "#RTT graph\n",
    "#missing sequences drawed in certain time intervals\n",
    "#missing packets connect lines， if 1 packets missing, go to 1. If 2 packets missing, go to 2.\n"
   ]
  },
  {
   "cell_type": "code",
   "execution_count": null,
   "metadata": {
    "collapsed": false
   },
   "outputs": [
    {
     "ename": "",
     "evalue": "",
     "output_type": "error",
     "traceback": [
      "\u001b[1;31mFailed to start the Kernel. \n",
      "\u001b[1;31m0.01s - Debugger warning: It seems that frozen modules are being used, which may\n",
      "\u001b[1;31m0.00s - make the debugger miss breakpoints. Please pass -Xfrozen_modules=off\n",
      "\u001b[1;31m0.00s - to python to disable frozen modules.\n",
      "\u001b[1;31m0.00s - Note: Debugging will proceed. Set PYDEVD_DISABLE_FILE_VALIDATION=1 to disable this validation.\n",
      "\u001b[1;31mBad address (C:\\projects\\libzmq\\src\\epoll.cpp:100). \n",
      "\u001b[1;31mView Jupyter <a href='command:jupyter.viewOutput'>log</a> for further details."
     ]
    }
   ],
   "source": [
    "import pandas as pd\n",
    "import os\n",
    "import csv\n",
    "import numpy as np\n",
    "import plotly.graph_objects as go\n",
    "\n",
    "# function to find the closest value in a series to a given value\n",
    "def find_closest_value(series, value):\n",
    "    return series.iloc[(series - value).abs().argsort()[0]]\n",
    "\n",
    "def find_missing_and_out_of_order_values(data):\n",
    "    missing_values = []\n",
    "    out_of_order_values = []\n",
    "\n",
    "    for i, value in enumerate(data):\n",
    "        # Check if the current value is missing\n",
    "        if i not in data:\n",
    "            missing_values.append(i)\n",
    "\n",
    "        # Check if the current value is out of order\n",
    "        if i > 0 and value < data[i-1]:\n",
    "            out_of_order_values.append(data[i-1])\n",
    "            out_of_order_values.append(value)\n",
    "\n",
    "    return missing_values, out_of_order_values\n",
    "\n",
    "# Read the csv file and skip the first two rows\n",
    "df = pd.read_csv('.\\\\20s\\\\Run2\\\\UDPing_log.csv', skiprows=[0, 1])\n",
    "\n",
    "# Loop through each row in the dataframe\n",
    "break_index = None\n",
    "for index, row in df.iterrows():\n",
    "    # Check if the row contains \"Ping statistics\" and nothing else\n",
    "    if \"Ping statistics\" in row[0]:\n",
    "        # If it does, break out of the loop\n",
    "        break_index = index\n",
    "        break\n",
    "\n",
    "# Slice the dataframe to include only the rows up to the \"Ping statistics\" row\n",
    "df = df.iloc[:break_index]\n",
    "df = df.rename(columns={'tSent(ms) ': 'tSent(ms)'})\n",
    "df['tSent(s)'] = df['tSent(ms)'] / 1000\n",
    "df['tSent(min)'] = df['tSent(s)'] / 60\n",
    "# create normal_seq column\n",
    "df['normal_seq'] = df['seq'].diff().apply(lambda x: 1 if pd.isna(x) or x == 0 else 1 if x == 1 else 0)\n",
    "\n",
    "# Create the missing_seq and out_of_order_seq columns\n",
    "seq_in_list = df['seq'].tolist()\n",
    "missing_values, out_of_order_values = find_missing_and_out_of_order_values(seq_in_list)\n",
    "\n",
    "df['out_of_order_seq'] = df['seq'].apply(lambda x: 0 if x in out_of_order_values else 1)\n",
    "\n",
    "# create a new column 'missing_seq'\n",
    "df['missing_seq'] = np.nan\n",
    "\n",
    "# loop over the missing values and find the closest value in the 'seq' column\n",
    "for value in missing_values:\n",
    "    closest_value = find_closest_value(df['seq'], value)\n",
    "    # set the 'missing_seq' value to 0 for the closest value\n",
    "    df.loc[df['seq'] == closest_value, 'missing_seq'] = 0\n",
    "\n",
    "# fill any remaining missing values in the 'missing_seq' column with 1\n",
    "df['missing_seq'].fillna(1, inplace=True)\n",
    "\n",
    "# Print the resulting dataframe\n",
    "print(df)"
   ]
  },
  {
   "cell_type": "code",
   "execution_count": null,
   "id": "11f4bb89",
   "metadata": {},
   "outputs": [
    {
     "ename": "",
     "evalue": "",
     "output_type": "error",
     "traceback": [
      "\u001b[1;31mFailed to start the Kernel. \n",
      "\u001b[1;31m0.01s - Debugger warning: It seems that frozen modules are being used, which may\n",
      "\u001b[1;31m0.00s - make the debugger miss breakpoints. Please pass -Xfrozen_modules=off\n",
      "\u001b[1;31m0.00s - to python to disable frozen modules.\n",
      "\u001b[1;31m0.00s - Note: Debugging will proceed. Set PYDEVD_DISABLE_FILE_VALIDATION=1 to disable this validation.\n",
      "\u001b[1;31mBad address (C:\\projects\\libzmq\\src\\epoll.cpp:100). \n",
      "\u001b[1;31mView Jupyter <a href='command:jupyter.viewOutput'>log</a> for further details."
     ]
    }
   ],
   "source": []
  },
  {
   "cell_type": "code",
   "execution_count": null,
   "id": "529d88c3",
   "metadata": {},
   "outputs": [
    {
     "ename": "",
     "evalue": "",
     "output_type": "error",
     "traceback": [
      "\u001b[1;31mFailed to start the Kernel. \n",
      "\u001b[1;31m0.01s - Debugger warning: It seems that frozen modules are being used, which may\n",
      "\u001b[1;31m0.00s - make the debugger miss breakpoints. Please pass -Xfrozen_modules=off\n",
      "\u001b[1;31m0.00s - to python to disable frozen modules.\n",
      "\u001b[1;31m0.00s - Note: Debugging will proceed. Set PYDEVD_DISABLE_FILE_VALIDATION=1 to disable this validation.\n",
      "\u001b[1;31mBad address (C:\\projects\\libzmq\\src\\epoll.cpp:100). \n",
      "\u001b[1;31mView Jupyter <a href='command:jupyter.viewOutput'>log</a> for further details."
     ]
    }
   ],
   "source": [
    "df['missing_seq']"
   ]
  },
  {
   "cell_type": "code",
   "execution_count": null,
   "metadata": {
    "collapsed": false
   },
   "outputs": [
    {
     "ename": "",
     "evalue": "",
     "output_type": "error",
     "traceback": [
      "\u001b[1;31mFailed to start the Kernel. \n",
      "\u001b[1;31m0.01s - Debugger warning: It seems that frozen modules are being used, which may\n",
      "\u001b[1;31m0.00s - make the debugger miss breakpoints. Please pass -Xfrozen_modules=off\n",
      "\u001b[1;31m0.00s - to python to disable frozen modules.\n",
      "\u001b[1;31m0.00s - Note: Debugging will proceed. Set PYDEVD_DISABLE_FILE_VALIDATION=1 to disable this validation.\n",
      "\u001b[1;31mBad address (C:\\projects\\libzmq\\src\\epoll.cpp:100). \n",
      "\u001b[1;31mView Jupyter <a href='command:jupyter.viewOutput'>log</a> for further details."
     ]
    }
   ],
   "source": [
    "def set_std_plot_params(fig):\n",
    "    fig.update_layout(font = dict(size = 24))\n",
    "    # Remove the background coloring.\n",
    "    fig.update_layout({\"plot_bgcolor\": \"rgba(0,0,0,0)\", \"paper_bgcolor\": \"rgba(0,0,0,0)\"})\n",
    "    # Make the gridlines visible on the transparent background.\n",
    "    fig.update_xaxes(showgrid = True, gridwidth = 1, gridcolor = \"rgba(169,169,169,0.5)\")\n",
    "    fig.update_yaxes(showgrid = True, gridwidth = 1, gridcolor = \"rgba(169,169,169,0.5)\", tickvals=[0, 1])\n",
    "\n",
    "# Create the scatter plot\n",
    "fig = go.Figure()\n",
    "\n",
    "# Add scatter traces for each column\n",
    "for column in ['out_of_order_seq', 'missing_seq']:\n",
    "    fig.add_trace(go.Scatter(\n",
    "        x=df['tSent(min)'],\n",
    "        y=df[column].apply(lambda x: \"In Order\" if x == 1 else \"Out of Order\"),\n",
    "        mode='markers+lines',\n",
    "        name=\"Out of Order Sequences\" if column == 'out_of_order_seq' else \"Missing Sequences\",\n",
    "        line=dict(color='red') if column == 'out_of_order_seq' else dict(color='blue'),\n",
    "        line_shape='spline',\n",
    "        line_smoothing=0.7,\n",
    "        line_width=1.5,\n",
    "        marker=dict(size=7)\n",
    "))\n",
    "\n",
    "# Update layout with axis labels\n",
    "fig.update_layout(\n",
    "    xaxis_title='Time(min)',\n",
    "    yaxis_title='In Order / Out of Order',\n",
    "    font=dict(size=18)\n",
    ")\n",
    "\n",
    "set_std_plot_params(fig)\n",
    "\n",
    "# Show the plot\n",
    "fig.show()\n",
    "\n"
   ]
  },
  {
   "cell_type": "code",
   "execution_count": null,
   "id": "22882eed",
   "metadata": {},
   "outputs": [
    {
     "ename": "",
     "evalue": "",
     "output_type": "error",
     "traceback": [
      "\u001b[1;31mFailed to start the Kernel. \n",
      "\u001b[1;31m0.01s - Debugger warning: It seems that frozen modules are being used, which may\n",
      "\u001b[1;31m0.00s - make the debugger miss breakpoints. Please pass -Xfrozen_modules=off\n",
      "\u001b[1;31m0.00s - to python to disable frozen modules.\n",
      "\u001b[1;31m0.00s - Note: Debugging will proceed. Set PYDEVD_DISABLE_FILE_VALIDATION=1 to disable this validation.\n",
      "\u001b[1;31mBad address (C:\\projects\\libzmq\\src\\epoll.cpp:100). \n",
      "\u001b[1;31mView Jupyter <a href='command:jupyter.viewOutput'>log</a> for further details."
     ]
    }
   ],
   "source": [
    "def produce_graph(df):\n",
    "    # function to find the closest value in a series to a given value\n",
    "    def find_closest_value(series, value):\n",
    "        return series.iloc[(series - value).abs().argsort()[0]]\n",
    "\n",
    "    def find_missing_and_out_of_order_values(data):\n",
    "        missing_values = []\n",
    "        out_of_order_values = []\n",
    "\n",
    "        for i, value in enumerate(data):\n",
    "            # Check if the current value is missing\n",
    "            if i not in data:\n",
    "                missing_values.append(i)\n",
    "\n",
    "            # Check if the current value is out of order\n",
    "            if i > 0 and value < data[i-1]:\n",
    "                out_of_order_values.append(data[i-1])\n",
    "                out_of_order_values.append(value)\n",
    "\n",
    "        return missing_values, out_of_order_values\n",
    "\n",
    "    # Read the csv file and skip the first two rows\n",
    "    # df = pd.read_csv('.\\\\5s\\\\Run0\\\\UDPing_log.csv', skiprows=[0, 1])\n",
    "\n",
    "\n",
    "    # Loop through each row in the dataframe\n",
    "    break_index = None\n",
    "    for index, row in df.iterrows():\n",
    "        # Check if the row contains \"Ping statistics\" and nothing else\n",
    "        if \"Ping statistics\" in row[0]:\n",
    "            # If it does, break out of the loop\n",
    "            break_index = index\n",
    "            break\n",
    "\n",
    "    # Slice the dataframe to include only the rows up to the \"Ping statistics\" row\n",
    "    df = df.iloc[:break_index]\n",
    "    df = df.rename(columns={'tSent(ms) ': 'tSent(ms)'})\n",
    "    df['tSent(s)'] = df['tSent(ms)'] / 1000\n",
    "    df['tSent(min)'] = df['tSent(s)'] / 60\n",
    "    # create normal_seq column\n",
    "    df['normal_seq'] = df['seq'].diff().apply(lambda x: 1 if pd.isna(x)\n",
    "                                            or x == 0 else 1 if x == 1 else 0)\n",
    "\n",
    "    # Create the missing_seq and out_of_order_seq columns\n",
    "    seq_in_list = df['seq'].tolist()\n",
    "    missing_values, out_of_order_values = find_missing_and_out_of_order_values(\n",
    "        seq_in_list)\n",
    "\n",
    "    df['out_of_order_seq'] = df['seq'].apply(\n",
    "        lambda x: 0 if x in out_of_order_values else 1)\n",
    "\n",
    "    # create a new column 'missing_seq'\n",
    "    df['missing_seq'] = np.nan\n",
    "\n",
    "    # loop over the missing values and find the closest value in the 'seq' column\n",
    "    for value in missing_values:\n",
    "        closest_value = find_closest_value(df['seq'], value)\n",
    "        # set the 'missing_seq' value to 0 for the closest value\n",
    "        df.loc[df['seq'] == closest_value, 'missing_seq'] = 0\n",
    "\n",
    "    # fill any remaining missing values in the 'missing_seq' column with 1\n",
    "    df['missing_seq'].fillna(1, inplace=True)\n",
    "\n",
    "\n",
    "    def set_std_plot_params(fig):\n",
    "        fig.update_layout(font=dict(size=24))\n",
    "        # Remove the background coloring.\n",
    "        fig.update_layout({\"plot_bgcolor\": \"rgba(0,0,0,0)\",\n",
    "                        \"paper_bgcolor\": \"rgba(0,0,0,0)\"})\n",
    "        # Make the gridlines visible on the transparent background.\n",
    "        fig.update_xaxes(showgrid=True, gridwidth=1,\n",
    "                        gridcolor=\"rgba(169,169,169,0.5)\")\n",
    "        fig.update_yaxes(showgrid=True, gridwidth=1,\n",
    "                        gridcolor=\"rgba(169,169,169,0.5)\", tickvals=[0, 1])\n",
    "\n",
    "\n",
    "    # Create the scatter plot\n",
    "    fig = go.Figure()\n",
    "\n",
    "    # Add scatter traces for each column\n",
    "    for column in ['out_of_order_seq', 'missing_seq']:\n",
    "        fig.add_trace(go.Scatter(\n",
    "            x=df['tSent(min)'],\n",
    "            y=df[column],\n",
    "            mode='markers+lines',\n",
    "            name=\"Out of Order Sequences\" if column == 'out_of_order_seq' else \"Missing Sequences\",\n",
    "            line=dict(color='red') if column == 'out_of_order_seq' else dict(\n",
    "                color='blue'),\n",
    "            line_shape='spline',\n",
    "            line_smoothing=0.7,\n",
    "            line_width=1.5,\n",
    "            marker=dict(size=7)\n",
    "        ))\n",
    "\n",
    "    # Update layout with axis labels\n",
    "    fig.update_layout(\n",
    "        xaxis_title='Time(min)',\n",
    "        yaxis_title='In Order(1) / Out of Order(0)',\n",
    "        font=dict(size=18)\n",
    "    )\n",
    "\n",
    "    set_std_plot_params(fig)\n",
    "\n",
    "    # Get the current file path\n",
    "    filepath = os.path.splitext(__file__)[0]\n",
    "\n",
    "    # Save the plot as a PNG file using the file path as the name\n",
    "    fig.write_image(filepath + '.png')\n"
   ]
  },
  {
   "cell_type": "code",
   "execution_count": null,
   "id": "24d3a7d6",
   "metadata": {},
   "outputs": [
    {
     "ename": "",
     "evalue": "",
     "output_type": "error",
     "traceback": [
      "\u001b[1;31mFailed to start the Kernel. \n",
      "\u001b[1;31m0.01s - Debugger warning: It seems that frozen modules are being used, which may\n",
      "\u001b[1;31m0.00s - make the debugger miss breakpoints. Please pass -Xfrozen_modules=off\n",
      "\u001b[1;31m0.00s - to python to disable frozen modules.\n",
      "\u001b[1;31m0.00s - Note: Debugging will proceed. Set PYDEVD_DISABLE_FILE_VALIDATION=1 to disable this validation.\n",
      "\u001b[1;31mBad address (C:\\projects\\libzmq\\src\\epoll.cpp:100). \n",
      "\u001b[1;31mView Jupyter <a href='command:jupyter.viewOutput'>log</a> for further details."
     ]
    }
   ],
   "source": [
    "import glob\n",
    "\n",
    "# Search for files named \"UDPing_log.csv\" in \"Bola\", \"Dynamic\", and \"ThurAll\" folders and their subfolders\n",
    "file_paths = glob.glob('.\\\\{Bola,Dynamic,ThurAll}/**/UDPing_log.csv', recursive=True)\n",
    "\n",
    "# Read all files found into a single DataFrame\n",
    "for path in file_paths:\n",
    "    df = pd.read_csv(path, skiprows=[0, 1])\n",
    "    produce_graph(df)"
   ]
  },
  {
   "cell_type": "code",
   "execution_count": null,
   "metadata": {
    "collapsed": false
   },
   "outputs": [
    {
     "ename": "",
     "evalue": "",
     "output_type": "error",
     "traceback": [
      "\u001b[1;31mFailed to start the Kernel. \n",
      "\u001b[1;31m0.01s - Debugger warning: It seems that frozen modules are being used, which may\n",
      "\u001b[1;31m0.00s - make the debugger miss breakpoints. Please pass -Xfrozen_modules=off\n",
      "\u001b[1;31m0.00s - to python to disable frozen modules.\n",
      "\u001b[1;31m0.00s - Note: Debugging will proceed. Set PYDEVD_DISABLE_FILE_VALIDATION=1 to disable this validation.\n",
      "\u001b[1;31mBad address (C:\\projects\\libzmq\\src\\epoll.cpp:100). \n",
      "\u001b[1;31mView Jupyter <a href='command:jupyter.viewOutput'>log</a> for further details."
     ]
    }
   ],
   "source": [
    "\n",
    "import pandas as pd\n",
    "import plotly.graph_objects as go\n",
    "\n",
    "\n",
    "def visualize_missing_sequences(missing,send):\n",
    "    x = list(range(send))\n",
    "    y = [1] * send\n",
    "\n",
    "    for i in missing:\n",
    "        y[i] = 0\n",
    "\n",
    "    fig = go.Figure(data=go.Scatter(x=x, y=y, mode='lines+markers', marker=dict(color='red')))\n",
    "\n",
    "    return fig\n"
   ]
  },
  {
   "cell_type": "code",
   "execution_count": null,
   "metadata": {
    "collapsed": false
   },
   "outputs": [
    {
     "ename": "",
     "evalue": "",
     "output_type": "error",
     "traceback": [
      "\u001b[1;31mFailed to start the Kernel. \n",
      "\u001b[1;31m0.01s - Debugger warning: It seems that frozen modules are being used, which may\n",
      "\u001b[1;31m0.00s - make the debugger miss breakpoints. Please pass -Xfrozen_modules=off\n",
      "\u001b[1;31m0.00s - to python to disable frozen modules.\n",
      "\u001b[1;31m0.00s - Note: Debugging will proceed. Set PYDEVD_DISABLE_FILE_VALIDATION=1 to disable this validation.\n",
      "\u001b[1;31mBad address (C:\\projects\\libzmq\\src\\epoll.cpp:100). \n",
      "\u001b[1;31mView Jupyter <a href='command:jupyter.viewOutput'>log</a> for further details."
     ]
    }
   ],
   "source": [
    "visualize_missing_sequences(missing_seqs[0],sends[0]).show()"
   ]
  },
  {
   "cell_type": "code",
   "execution_count": null,
   "metadata": {
    "collapsed": false
   },
   "outputs": [
    {
     "ename": "",
     "evalue": "",
     "output_type": "error",
     "traceback": [
      "\u001b[1;31mFailed to start the Kernel. \n",
      "\u001b[1;31m0.01s - Debugger warning: It seems that frozen modules are being used, which may\n",
      "\u001b[1;31m0.00s - make the debugger miss breakpoints. Please pass -Xfrozen_modules=off\n",
      "\u001b[1;31m0.00s - to python to disable frozen modules.\n",
      "\u001b[1;31m0.00s - Note: Debugging will proceed. Set PYDEVD_DISABLE_FILE_VALIDATION=1 to disable this validation.\n",
      "\u001b[1;31mBad address (C:\\projects\\libzmq\\src\\epoll.cpp:100). \n",
      "\u001b[1;31mView Jupyter <a href='command:jupyter.viewOutput'>log</a> for further details."
     ]
    }
   ],
   "source": [
    "visualize_missing_sequences(missing_seqs[1],sends[1]).show()"
   ]
  },
  {
   "cell_type": "code",
   "execution_count": null,
   "metadata": {
    "collapsed": false
   },
   "outputs": [
    {
     "ename": "",
     "evalue": "",
     "output_type": "error",
     "traceback": [
      "\u001b[1;31mFailed to start the Kernel. \n",
      "\u001b[1;31m0.01s - Debugger warning: It seems that frozen modules are being used, which may\n",
      "\u001b[1;31m0.00s - make the debugger miss breakpoints. Please pass -Xfrozen_modules=off\n",
      "\u001b[1;31m0.00s - to python to disable frozen modules.\n",
      "\u001b[1;31m0.00s - Note: Debugging will proceed. Set PYDEVD_DISABLE_FILE_VALIDATION=1 to disable this validation.\n",
      "\u001b[1;31mBad address (C:\\projects\\libzmq\\src\\epoll.cpp:100). \n",
      "\u001b[1;31mView Jupyter <a href='command:jupyter.viewOutput'>log</a> for further details."
     ]
    }
   ],
   "source": [
    "visualize_missing_sequences(missing_seqs[2],sends[2]).show()"
   ]
  },
  {
   "cell_type": "markdown",
   "id": "0e0e9bb0-b064-4af1-905b-59791b05b3ed",
   "metadata": {},
   "source": [
    "## Stalls"
   ]
  },
  {
   "cell_type": "code",
   "execution_count": null,
   "metadata": {
    "collapsed": false
   },
   "outputs": [
    {
     "ename": "",
     "evalue": "",
     "output_type": "error",
     "traceback": [
      "\u001b[1;31mFailed to start the Kernel. \n",
      "\u001b[1;31m0.01s - Debugger warning: It seems that frozen modules are being used, which may\n",
      "\u001b[1;31m0.00s - make the debugger miss breakpoints. Please pass -Xfrozen_modules=off\n",
      "\u001b[1;31m0.00s - to python to disable frozen modules.\n",
      "\u001b[1;31m0.00s - Note: Debugging will proceed. Set PYDEVD_DISABLE_FILE_VALIDATION=1 to disable this validation.\n",
      "\u001b[1;31mBad address (C:\\projects\\libzmq\\src\\epoll.cpp:100). \n",
      "\u001b[1;31mView Jupyter <a href='command:jupyter.viewOutput'>log</a> for further details."
     ]
    }
   ],
   "source": []
  },
  {
   "cell_type": "code",
   "execution_count": null,
   "id": "2a925e03-f68e-481d-a87a-da641dcfe58d",
   "metadata": {},
   "outputs": [
    {
     "ename": "",
     "evalue": "",
     "output_type": "error",
     "traceback": [
      "\u001b[1;31mFailed to start the Kernel. \n",
      "\u001b[1;31m0.01s - Debugger warning: It seems that frozen modules are being used, which may\n",
      "\u001b[1;31m0.00s - make the debugger miss breakpoints. Please pass -Xfrozen_modules=off\n",
      "\u001b[1;31m0.00s - to python to disable frozen modules.\n",
      "\u001b[1;31m0.00s - Note: Debugging will proceed. Set PYDEVD_DISABLE_FILE_VALIDATION=1 to disable this validation.\n",
      "\u001b[1;31mBad address (C:\\projects\\libzmq\\src\\epoll.cpp:100). \n",
      "\u001b[1;31mView Jupyter <a href='command:jupyter.viewOutput'>log</a> for further details."
     ]
    }
   ],
   "source": [
    "import os\n",
    "import re\n",
    "\n",
    "stall_pattern = re.compile(\"^STALL  ([\\d]+) ms and stopped at [\\d\\.]+ sec\", re.M)\n",
    "\n",
    "def ComputeStallData(dir_path):\n",
    "    jsLog_names = [filename for filename in os.listdir(dir_path) if filename.startswith(\"Tester_\") and filename.endswith(\".log\")]\n",
    "    if len(jsLog_names) != 1:\n",
    "        return\n",
    "    jsLog_name = jsLog_names[0]\n",
    "    jsLog = open(os.path.join(dir_path, jsLog_name), \"r\")\n",
    "    \n",
    "    stall_lengths_ms = list()\n",
    "    \n",
    "    # Read through all the lines.\n",
    "    while line := jsLog.readline():\n",
    "        match = stall_pattern.match(line)\n",
    "        if match:\n",
    "            stall_len_ms = int(match.group(1))\n",
    "            stall_lengths_ms.append(stall_len_ms)\n",
    "    \n",
    "    return stall_lengths_ms"
   ]
  },
  {
   "cell_type": "code",
   "execution_count": null,
   "id": "6f0076fe-d4b0-481d-a505-1b0b58d9f5ee",
   "metadata": {},
   "outputs": [
    {
     "ename": "",
     "evalue": "",
     "output_type": "error",
     "traceback": [
      "\u001b[1;31mFailed to start the Kernel. \n",
      "\u001b[1;31m0.01s - Debugger warning: It seems that frozen modules are being used, which may\n",
      "\u001b[1;31m0.00s - make the debugger miss breakpoints. Please pass -Xfrozen_modules=off\n",
      "\u001b[1;31m0.00s - to python to disable frozen modules.\n",
      "\u001b[1;31m0.00s - Note: Debugging will proceed. Set PYDEVD_DISABLE_FILE_VALIDATION=1 to disable this validation.\n",
      "\u001b[1;31mBad address (C:\\projects\\libzmq\\src\\epoll.cpp:100). \n",
      "\u001b[1;31mView Jupyter <a href='command:jupyter.viewOutput'>log</a> for further details."
     ]
    }
   ],
   "source": [
    "import numpy as np\n",
    "import os\n",
    "import scipy.stats as st\n",
    "\n",
    "seg_lens = [\"5s\", \"10s\", \"20s\"]\n",
    "conf_interval = 0.95\n",
    "\n",
    "avg_stall_cts = list()\n",
    "avg_stall_cts_conf = list()\n",
    "stdev_stall_cts = list()\n",
    "\n",
    "avg_stall_lengths = list()\n",
    "avg_stall_lengths_conf = list()\n",
    "stdev_stall_lengths = list()\n",
    "\n",
    "for seg_len in seg_lens:\n",
    "    dir_path = \"./{seg_len}\".format(seg_len = seg_len)\n",
    "    \n",
    "    seglen_aggregate_stall_lengths = list()\n",
    "    seglen_aggregate_stall_counts = list()\n",
    "    \n",
    "    for file_name in os.listdir(dir_path):\n",
    "        file_path = os.path.join(dir_path, file_name)\n",
    "        if not os.path.isdir(file_path): # Only looking to read directories (that are symlinks).\n",
    "            continue\n",
    "        cur_stall_lengths_ms = ComputeStallData(file_path)\n",
    "        seglen_aggregate_stall_lengths += cur_stall_lengths_ms\n",
    "        seglen_aggregate_stall_counts.append(len(cur_stall_lengths_ms))\n",
    "    \n",
    "    avg_cts = np.mean(seglen_aggregate_stall_counts)\n",
    "    avg_stall_cts.append(avg_cts)\n",
    "    avg_stall_cts_conf.append(st.norm.interval(alpha = conf_interval, loc = avg_cts, scale = st.sem(seglen_aggregate_stall_counts)))\n",
    "    stdev_stall_cts.append(np.std(seglen_aggregate_stall_counts))\n",
    "    \n",
    "    avg_lengths = np.mean(seglen_aggregate_stall_lengths)\n",
    "    avg_stall_lengths.append(avg_lengths)\n",
    "    avg_stall_lengths_conf.append(st.norm.interval(alpha = conf_interval, loc = avg_lengths, scale = st.sem(seglen_aggregate_stall_lengths)))\n",
    "    stdev_stall_lengths.append(np.std(seglen_aggregate_stall_lengths))"
   ]
  },
  {
   "cell_type": "markdown",
   "id": "6acf6e73-4cd3-42fe-b9c7-c2a6ec07c2e2",
   "metadata": {},
   "source": [
    "### Stall lengths"
   ]
  },
  {
   "cell_type": "code",
   "execution_count": null,
   "id": "57c35a0a-8a18-473f-999f-d9aaee2fff02",
   "metadata": {},
   "outputs": [
    {
     "ename": "",
     "evalue": "",
     "output_type": "error",
     "traceback": [
      "\u001b[1;31mFailed to start the Kernel. \n",
      "\u001b[1;31m0.01s - Debugger warning: It seems that frozen modules are being used, which may\n",
      "\u001b[1;31m0.00s - make the debugger miss breakpoints. Please pass -Xfrozen_modules=off\n",
      "\u001b[1;31m0.00s - to python to disable frozen modules.\n",
      "\u001b[1;31m0.00s - Note: Debugging will proceed. Set PYDEVD_DISABLE_FILE_VALIDATION=1 to disable this validation.\n",
      "\u001b[1;31mBad address (C:\\projects\\libzmq\\src\\epoll.cpp:100). \n",
      "\u001b[1;31mView Jupyter <a href='command:jupyter.viewOutput'>log</a> for further details."
     ]
    }
   ],
   "source": [
    "avg_stall_lengths"
   ]
  },
  {
   "cell_type": "code",
   "execution_count": null,
   "id": "549991ea-27e6-466f-808b-ebd16aec3d7f",
   "metadata": {},
   "outputs": [
    {
     "ename": "",
     "evalue": "",
     "output_type": "error",
     "traceback": [
      "\u001b[1;31mFailed to start the Kernel. \n",
      "\u001b[1;31m0.01s - Debugger warning: It seems that frozen modules are being used, which may\n",
      "\u001b[1;31m0.00s - make the debugger miss breakpoints. Please pass -Xfrozen_modules=off\n",
      "\u001b[1;31m0.00s - to python to disable frozen modules.\n",
      "\u001b[1;31m0.00s - Note: Debugging will proceed. Set PYDEVD_DISABLE_FILE_VALIDATION=1 to disable this validation.\n",
      "\u001b[1;31mBad address (C:\\projects\\libzmq\\src\\epoll.cpp:100). \n",
      "\u001b[1;31mView Jupyter <a href='command:jupyter.viewOutput'>log</a> for further details."
     ]
    }
   ],
   "source": [
    "avg_stall_lengths_conf"
   ]
  },
  {
   "cell_type": "code",
   "execution_count": null,
   "id": "a035aeaf-e9c6-4e5d-8ea8-1a17cc90c42a",
   "metadata": {},
   "outputs": [
    {
     "ename": "",
     "evalue": "",
     "output_type": "error",
     "traceback": [
      "\u001b[1;31mFailed to start the Kernel. \n",
      "\u001b[1;31m0.01s - Debugger warning: It seems that frozen modules are being used, which may\n",
      "\u001b[1;31m0.00s - make the debugger miss breakpoints. Please pass -Xfrozen_modules=off\n",
      "\u001b[1;31m0.00s - to python to disable frozen modules.\n",
      "\u001b[1;31m0.00s - Note: Debugging will proceed. Set PYDEVD_DISABLE_FILE_VALIDATION=1 to disable this validation.\n",
      "\u001b[1;31mBad address (C:\\projects\\libzmq\\src\\epoll.cpp:100). \n",
      "\u001b[1;31mView Jupyter <a href='command:jupyter.viewOutput'>log</a> for further details."
     ]
    }
   ],
   "source": [
    "stdev_stall_lengths"
   ]
  },
  {
   "cell_type": "markdown",
   "id": "f5f72c9e-e30b-42bf-a039-a3e370b54d79",
   "metadata": {},
   "source": [
    "### Stall counts"
   ]
  },
  {
   "cell_type": "code",
   "execution_count": null,
   "id": "6518ad09-f58f-4764-a228-64ecdbaf3971",
   "metadata": {},
   "outputs": [
    {
     "ename": "",
     "evalue": "",
     "output_type": "error",
     "traceback": [
      "\u001b[1;31mFailed to start the Kernel. \n",
      "\u001b[1;31m0.01s - Debugger warning: It seems that frozen modules are being used, which may\n",
      "\u001b[1;31m0.00s - make the debugger miss breakpoints. Please pass -Xfrozen_modules=off\n",
      "\u001b[1;31m0.00s - to python to disable frozen modules.\n",
      "\u001b[1;31m0.00s - Note: Debugging will proceed. Set PYDEVD_DISABLE_FILE_VALIDATION=1 to disable this validation.\n",
      "\u001b[1;31mBad address (C:\\projects\\libzmq\\src\\epoll.cpp:100). \n",
      "\u001b[1;31mView Jupyter <a href='command:jupyter.viewOutput'>log</a> for further details."
     ]
    }
   ],
   "source": [
    "avg_stall_cts"
   ]
  },
  {
   "cell_type": "code",
   "execution_count": null,
   "id": "23c4cf23-23b9-41ef-8527-63137679bbf9",
   "metadata": {},
   "outputs": [
    {
     "ename": "",
     "evalue": "",
     "output_type": "error",
     "traceback": [
      "\u001b[1;31mFailed to start the Kernel. \n",
      "\u001b[1;31m0.01s - Debugger warning: It seems that frozen modules are being used, which may\n",
      "\u001b[1;31m0.00s - make the debugger miss breakpoints. Please pass -Xfrozen_modules=off\n",
      "\u001b[1;31m0.00s - to python to disable frozen modules.\n",
      "\u001b[1;31m0.00s - Note: Debugging will proceed. Set PYDEVD_DISABLE_FILE_VALIDATION=1 to disable this validation.\n",
      "\u001b[1;31mBad address (C:\\projects\\libzmq\\src\\epoll.cpp:100). \n",
      "\u001b[1;31mView Jupyter <a href='command:jupyter.viewOutput'>log</a> for further details."
     ]
    }
   ],
   "source": [
    "avg_stall_cts_conf"
   ]
  },
  {
   "cell_type": "code",
   "execution_count": null,
   "id": "81eeb13d-78be-4487-b935-520d985d3141",
   "metadata": {},
   "outputs": [
    {
     "ename": "",
     "evalue": "",
     "output_type": "error",
     "traceback": [
      "\u001b[1;31mFailed to start the Kernel. \n",
      "\u001b[1;31m0.01s - Debugger warning: It seems that frozen modules are being used, which may\n",
      "\u001b[1;31m0.00s - make the debugger miss breakpoints. Please pass -Xfrozen_modules=off\n",
      "\u001b[1;31m0.00s - to python to disable frozen modules.\n",
      "\u001b[1;31m0.00s - Note: Debugging will proceed. Set PYDEVD_DISABLE_FILE_VALIDATION=1 to disable this validation.\n",
      "\u001b[1;31mBad address (C:\\projects\\libzmq\\src\\epoll.cpp:100). \n",
      "\u001b[1;31mView Jupyter <a href='command:jupyter.viewOutput'>log</a> for further details."
     ]
    }
   ],
   "source": [
    "stdev_stall_cts"
   ]
  },
  {
   "cell_type": "code",
   "execution_count": null,
   "id": "247e4bb0-6f60-4340-b96a-1ddf8d563e23",
   "metadata": {},
   "outputs": [
    {
     "ename": "",
     "evalue": "",
     "output_type": "error",
     "traceback": [
      "\u001b[1;31mFailed to start the Kernel. \n",
      "\u001b[1;31m0.01s - Debugger warning: It seems that frozen modules are being used, which may\n",
      "\u001b[1;31m0.00s - make the debugger miss breakpoints. Please pass -Xfrozen_modules=off\n",
      "\u001b[1;31m0.00s - to python to disable frozen modules.\n",
      "\u001b[1;31m0.00s - Note: Debugging will proceed. Set PYDEVD_DISABLE_FILE_VALIDATION=1 to disable this validation.\n",
      "\u001b[1;31mBad address (C:\\projects\\libzmq\\src\\epoll.cpp:100). \n",
      "\u001b[1;31mView Jupyter <a href='command:jupyter.viewOutput'>log</a> for further details."
     ]
    }
   ],
   "source": [
    "import numpy as np\n",
    "stalls_permin = np.divide(avg_stall_cts, video_length_min)\n",
    "print(\"Average stalls per minute of video (5s, 10s, 20s): {stallavg}\".format(stallavg = stalls_permin))"
   ]
  },
  {
   "cell_type": "markdown",
   "id": "5a6f05aa-8992-4be2-b636-6d4f9a822f61",
   "metadata": {},
   "source": [
    "### Stall totals"
   ]
  },
  {
   "cell_type": "code",
   "execution_count": null,
   "id": "3ea6cf71-95ea-456c-9f7b-3ad4ef5345c0",
   "metadata": {},
   "outputs": [
    {
     "ename": "",
     "evalue": "",
     "output_type": "error",
     "traceback": [
      "\u001b[1;31mFailed to start the Kernel. \n",
      "\u001b[1;31m0.01s - Debugger warning: It seems that frozen modules are being used, which may\n",
      "\u001b[1;31m0.00s - make the debugger miss breakpoints. Please pass -Xfrozen_modules=off\n",
      "\u001b[1;31m0.00s - to python to disable frozen modules.\n",
      "\u001b[1;31m0.00s - Note: Debugging will proceed. Set PYDEVD_DISABLE_FILE_VALIDATION=1 to disable this validation.\n",
      "\u001b[1;31mBad address (C:\\projects\\libzmq\\src\\epoll.cpp:100). \n",
      "\u001b[1;31mView Jupyter <a href='command:jupyter.viewOutput'>log</a> for further details."
     ]
    }
   ],
   "source": [
    "import numpy as np\n",
    "stall_totals = np.multiply(avg_stall_cts, avg_stall_lengths)\n",
    "print(\"Stall totals (# of stalls * length of stalls) (sec):\\n{vols}\".format(vols = stall_totals / 1000))"
   ]
  },
  {
   "cell_type": "code",
   "execution_count": null,
   "id": "5a6008d2-aea3-4927-aec5-cb71591970b2",
   "metadata": {},
   "outputs": [
    {
     "ename": "",
     "evalue": "",
     "output_type": "error",
     "traceback": [
      "\u001b[1;31mFailed to start the Kernel. \n",
      "\u001b[1;31m0.01s - Debugger warning: It seems that frozen modules are being used, which may\n",
      "\u001b[1;31m0.00s - make the debugger miss breakpoints. Please pass -Xfrozen_modules=off\n",
      "\u001b[1;31m0.00s - to python to disable frozen modules.\n",
      "\u001b[1;31m0.00s - Note: Debugging will proceed. Set PYDEVD_DISABLE_FILE_VALIDATION=1 to disable this validation.\n",
      "\u001b[1;31mBad address (C:\\projects\\libzmq\\src\\epoll.cpp:100). \n",
      "\u001b[1;31mView Jupyter <a href='command:jupyter.viewOutput'>log</a> for further details."
     ]
    }
   ],
   "source": [
    "import numpy as np\n",
    "stall_totals_permin = np.divide(stall_totals, video_length_min)\n",
    "print(\"Average stall totals per minute of video (seconds of stall / minute of video):\\n{avgvol}\".format(avgvol = stall_totals_permin / 1000))"
   ]
  },
  {
   "cell_type": "markdown",
   "id": "979f3661-a181-4656-80dd-1196a7d260e3",
   "metadata": {},
   "source": [
    "## Quality Changes"
   ]
  },
  {
   "cell_type": "code",
   "execution_count": null,
   "id": "139747c3-a2b0-4a73-ba83-1c3cdc0dabff",
   "metadata": {},
   "outputs": [
    {
     "ename": "",
     "evalue": "",
     "output_type": "error",
     "traceback": [
      "\u001b[1;31mFailed to start the Kernel. \n",
      "\u001b[1;31m0.01s - Debugger warning: It seems that frozen modules are being used, which may\n",
      "\u001b[1;31m0.00s - make the debugger miss breakpoints. Please pass -Xfrozen_modules=off\n",
      "\u001b[1;31m0.00s - to python to disable frozen modules.\n",
      "\u001b[1;31m0.00s - Note: Debugging will proceed. Set PYDEVD_DISABLE_FILE_VALIDATION=1 to disable this validation.\n",
      "\u001b[1;31mBad address (C:\\projects\\libzmq\\src\\epoll.cpp:100). \n",
      "\u001b[1;31mView Jupyter <a href='command:jupyter.viewOutput'>log</a> for further details."
     ]
    }
   ],
   "source": [
    "log_res_pattern = re.compile(\"^LOG  [^,]+,[^,]+,([\\dx]+).+$\")\n",
    "qual_change_pattern = re.compile(\"^QUAL  at [\\d\\.]+ to ([\\dx]+)$\")\n",
    "\n",
    "def ComputeQualChangeData(dir_path):\n",
    "    jsLog_names = [filename for filename in os.listdir(dir_path) if filename.startswith(\"Tester_\") and filename.endswith(\".log\")]\n",
    "    if len(jsLog_names) != 1:\n",
    "        return\n",
    "    jsLog_name = jsLog_names[0]\n",
    "    jsLog = open(os.path.join(dir_path, jsLog_name), \"r\")\n",
    "    \n",
    "    startRes = None\n",
    "    resAmnts = dict()\n",
    "    \n",
    "    # Read through all the lines.\n",
    "    while line := jsLog.readline():\n",
    "        log_res_match = log_res_pattern.match(line)\n",
    "        if log_res_match and startRes == None:\n",
    "            # This is the first LOG line. Let's get the quality level in case it never changes so there are no QUAL entries.\n",
    "            startRes = log_res_match.group(1)\n",
    "            resAmnts[startRes] = resAmnts.get(startRes, 0) + 1\n",
    "        \n",
    "        match = qual_change_pattern.match(line)\n",
    "        if match:\n",
    "            resolution = match.group(1)\n",
    "            resAmnts[resolution] = resAmnts.get(resolution, 0) + 1 # Increase number of occurrences of this resolution by 1.\n",
    "    \n",
    "    return resAmnts"
   ]
  },
  {
   "cell_type": "code",
   "execution_count": null,
   "id": "558254ba-fcd8-4b7f-b570-eb35942484dc",
   "metadata": {},
   "outputs": [
    {
     "ename": "",
     "evalue": "",
     "output_type": "error",
     "traceback": [
      "\u001b[1;31mFailed to start the Kernel. \n",
      "\u001b[1;31m0.01s - Debugger warning: It seems that frozen modules are being used, which may\n",
      "\u001b[1;31m0.00s - make the debugger miss breakpoints. Please pass -Xfrozen_modules=off\n",
      "\u001b[1;31m0.00s - to python to disable frozen modules.\n",
      "\u001b[1;31m0.00s - Note: Debugging will proceed. Set PYDEVD_DISABLE_FILE_VALIDATION=1 to disable this validation.\n",
      "\u001b[1;31mBad address (C:\\projects\\libzmq\\src\\epoll.cpp:100). \n",
      "\u001b[1;31mView Jupyter <a href='command:jupyter.viewOutput'>log</a> for further details."
     ]
    }
   ],
   "source": [
    "seg_lens = [\"5s\", \"10s\", \"20s\"]\n",
    "avg_qual_changes = list()\n",
    "stdev_qual_changes = list()\n",
    "for seg_len in seg_lens:\n",
    "    #print(\"Segment length: \" + seg_len)\n",
    "    dir_path = \"./{seg_len}\".format(seg_len = seg_len)\n",
    "    \n",
    "    #run_ct = 0\n",
    "    cur_qual_changes = list()\n",
    "    #sum_qual_changes = 0\n",
    "    \n",
    "    for file_name in os.listdir(dir_path):\n",
    "    #for run_idx in range(0, 3): # Index from [0..2].\n",
    "        file_path = os.path.join(dir_path, file_name)\n",
    "        if not os.path.isdir(file_path): # Only looking to read directories (that are symlinks).\n",
    "            continue\n",
    "        resAmnts = ComputeQualChangeData(file_path)\n",
    "        \n",
    "        #print(resAmnts)\n",
    "        #run_ct += 1\n",
    "        # Subtract one because the video always starts at a certain quality, that's not a quality change.\n",
    "        qual_changes = sum(resAmnts.values()) - 1\n",
    "        cur_qual_changes.append(qual_changes)\n",
    "        #sum_qual_changes += qual_changes\n",
    "        #seg_stall_ct_sum += stall_ct\n",
    "        #seg_stall_len_sum += avg_stall_len_ms\n",
    "        #print(\"Stall count: \" + str(stall_ct))\n",
    "        #print(\"Average stall length (ms): \" + str(avg_stall_len_ms))\n",
    "    \n",
    "    avg_qual_changes.append(np.mean(cur_qual_changes))\n",
    "    stdev_qual_changes.append(np.std(cur_qual_changes))\n",
    "    #avg_qual_changes.append(sum_qual_changes / run_ct)\n",
    "    #avg_stall_cts.append(seg_stall_ct_sum / run_ct)\n",
    "    #avg_stall_lengths.append(seg_stall_len_sum / run_ct)"
   ]
  },
  {
   "cell_type": "code",
   "execution_count": null,
   "id": "fcc938ad-d325-4cf3-966e-4fbf686a7282",
   "metadata": {},
   "outputs": [
    {
     "ename": "",
     "evalue": "",
     "output_type": "error",
     "traceback": [
      "\u001b[1;31mFailed to start the Kernel. \n",
      "\u001b[1;31m0.01s - Debugger warning: It seems that frozen modules are being used, which may\n",
      "\u001b[1;31m0.00s - make the debugger miss breakpoints. Please pass -Xfrozen_modules=off\n",
      "\u001b[1;31m0.00s - to python to disable frozen modules.\n",
      "\u001b[1;31m0.00s - Note: Debugging will proceed. Set PYDEVD_DISABLE_FILE_VALIDATION=1 to disable this validation.\n",
      "\u001b[1;31mBad address (C:\\projects\\libzmq\\src\\epoll.cpp:100). \n",
      "\u001b[1;31mView Jupyter <a href='command:jupyter.viewOutput'>log</a> for further details."
     ]
    }
   ],
   "source": [
    "avg_qual_changes"
   ]
  },
  {
   "cell_type": "code",
   "execution_count": null,
   "id": "9834bd65-7d94-4d11-97d4-beb12c08e463",
   "metadata": {},
   "outputs": [
    {
     "ename": "",
     "evalue": "",
     "output_type": "error",
     "traceback": [
      "\u001b[1;31mFailed to start the Kernel. \n",
      "\u001b[1;31m0.01s - Debugger warning: It seems that frozen modules are being used, which may\n",
      "\u001b[1;31m0.00s - make the debugger miss breakpoints. Please pass -Xfrozen_modules=off\n",
      "\u001b[1;31m0.00s - to python to disable frozen modules.\n",
      "\u001b[1;31m0.00s - Note: Debugging will proceed. Set PYDEVD_DISABLE_FILE_VALIDATION=1 to disable this validation.\n",
      "\u001b[1;31mBad address (C:\\projects\\libzmq\\src\\epoll.cpp:100). \n",
      "\u001b[1;31mView Jupyter <a href='command:jupyter.viewOutput'>log</a> for further details."
     ]
    }
   ],
   "source": [
    "stdev_qual_changes"
   ]
  },
  {
   "cell_type": "markdown",
   "id": "5b8f5e76-a043-4169-bca6-7a5d5a764a0d",
   "metadata": {},
   "source": [
    "## Quality Data"
   ]
  },
  {
   "cell_type": "code",
   "execution_count": null,
   "id": "feb5c716-2a6f-47f4-9f69-2516b3dc69fa",
   "metadata": {},
   "outputs": [
    {
     "ename": "",
     "evalue": "",
     "output_type": "error",
     "traceback": [
      "\u001b[1;31mFailed to start the Kernel. \n",
      "\u001b[1;31m0.01s - Debugger warning: It seems that frozen modules are being used, which may\n",
      "\u001b[1;31m0.00s - make the debugger miss breakpoints. Please pass -Xfrozen_modules=off\n",
      "\u001b[1;31m0.00s - to python to disable frozen modules.\n",
      "\u001b[1;31m0.00s - Note: Debugging will proceed. Set PYDEVD_DISABLE_FILE_VALIDATION=1 to disable this validation.\n",
      "\u001b[1;31mBad address (C:\\projects\\libzmq\\src\\epoll.cpp:100). \n",
      "\u001b[1;31mView Jupyter <a href='command:jupyter.viewOutput'>log</a> for further details."
     ]
    }
   ],
   "source": [
    "log_res_pattern = re.compile(\"^LOG  [^,]+,[^,]+,([\\dx]+).+$\")\n",
    "\n",
    "def ComputeQualData(dir_path):\n",
    "    jsLog_names = [filename for filename in os.listdir(dir_path) if filename.startswith(\"Tester_\") and filename.endswith(\".log\")]\n",
    "    #print(jsLog_names)\n",
    "    if len(jsLog_names) != 1:\n",
    "        return\n",
    "    jsLog_name = jsLog_names[0]\n",
    "    jsLog = open(os.path.join(dir_path, jsLog_name), \"r\")\n",
    "    \n",
    "    resAmnts = dict()\n",
    "    resOccurrences = list()\n",
    "    \n",
    "    # Read through all the lines.\n",
    "    while line := jsLog.readline():\n",
    "        log_res_match = log_res_pattern.match(line)\n",
    "        if not log_res_match:\n",
    "            continue\n",
    "\n",
    "        startRes = log_res_match.group(1)\n",
    "        #print(startRes)\n",
    "        resAmnts[startRes] = resAmnts.get(startRes, 0) + 1\n",
    "        resOccurrences.append(startRes)\n",
    "        \n",
    "    return resOccurrences"
   ]
  },
  {
   "cell_type": "code",
   "execution_count": null,
   "id": "e6a89f9f-1fa9-462a-bffb-b6a1280f1934",
   "metadata": {},
   "outputs": [
    {
     "ename": "",
     "evalue": "",
     "output_type": "error",
     "traceback": [
      "\u001b[1;31mFailed to start the Kernel. \n",
      "\u001b[1;31m0.01s - Debugger warning: It seems that frozen modules are being used, which may\n",
      "\u001b[1;31m0.00s - make the debugger miss breakpoints. Please pass -Xfrozen_modules=off\n",
      "\u001b[1;31m0.00s - to python to disable frozen modules.\n",
      "\u001b[1;31m0.00s - Note: Debugging will proceed. Set PYDEVD_DISABLE_FILE_VALIDATION=1 to disable this validation.\n",
      "\u001b[1;31mBad address (C:\\projects\\libzmq\\src\\epoll.cpp:100). \n",
      "\u001b[1;31mView Jupyter <a href='command:jupyter.viewOutput'>log</a> for further details."
     ]
    }
   ],
   "source": [
    "seg_lens = [\"5s\", \"10s\", \"20s\"]\n",
    "avg_stall_cts = list()\n",
    "avg_stall_lengths = list()\n",
    "resOccurrences = list()\n",
    "for seg_len in seg_lens:\n",
    "    print(\"Segment length: \" + seg_len)\n",
    "    dir_path = \"./{seg_len}\".format(seg_len = seg_len)\n",
    "    \n",
    "    run_ct = 0\n",
    "    seg_stall_ct_sum = 0\n",
    "    seg_stall_len_sum = 0\n",
    "    resQtys = list()\n",
    "    \n",
    "    for file_name in os.listdir(dir_path):\n",
    "    #for run_idx in range(0, 3): # Index from [0..2].\n",
    "        file_path = os.path.join(dir_path, file_name)\n",
    "        if not os.path.isdir(file_path): # Only looking to read directories (that are symlinks).\n",
    "            continue\n",
    "        #resAmnts = ComputeQualData(file_path)\n",
    "        resQtys += ComputeQualData(file_path)\n",
    "        #print(resAmnts)\n",
    "        #run_ct += 1\n",
    "        #seg_stall_ct_sum += stall_ct\n",
    "        #seg_stall_len_sum += avg_stall_len_ms\n",
    "        #print(\"Stall count: \" + str(stall_ct))\n",
    "        #print(\"Average stall length (ms): \" + str(avg_stall_len_ms))\n",
    "    \n",
    "    resOccurrences.append(resQtys)\n",
    "    #avg_stall_cts.append(seg_stall_ct_sum / run_ct)\n",
    "    #avg_stall_lengths.append(seg_stall_len_sum / run_ct)"
   ]
  },
  {
   "cell_type": "code",
   "execution_count": null,
   "id": "8e90ca04-ebf2-4190-8738-157f9d72389f",
   "metadata": {},
   "outputs": [
    {
     "ename": "",
     "evalue": "",
     "output_type": "error",
     "traceback": [
      "\u001b[1;31mFailed to start the Kernel. \n",
      "\u001b[1;31m0.01s - Debugger warning: It seems that frozen modules are being used, which may\n",
      "\u001b[1;31m0.00s - make the debugger miss breakpoints. Please pass -Xfrozen_modules=off\n",
      "\u001b[1;31m0.00s - to python to disable frozen modules.\n",
      "\u001b[1;31m0.00s - Note: Debugging will proceed. Set PYDEVD_DISABLE_FILE_VALIDATION=1 to disable this validation.\n",
      "\u001b[1;31mBad address (C:\\projects\\libzmq\\src\\epoll.cpp:100). \n",
      "\u001b[1;31mView Jupyter <a href='command:jupyter.viewOutput'>log</a> for further details."
     ]
    }
   ],
   "source": [
    "len(resOccurrences[2])"
   ]
  },
  {
   "cell_type": "code",
   "execution_count": null,
   "id": "840339b7-5999-4c20-a821-477945ca5288",
   "metadata": {},
   "outputs": [
    {
     "ename": "",
     "evalue": "",
     "output_type": "error",
     "traceback": [
      "\u001b[1;31mFailed to start the Kernel. \n",
      "\u001b[1;31m0.01s - Debugger warning: It seems that frozen modules are being used, which may\n",
      "\u001b[1;31m0.00s - make the debugger miss breakpoints. Please pass -Xfrozen_modules=off\n",
      "\u001b[1;31m0.00s - to python to disable frozen modules.\n",
      "\u001b[1;31m0.00s - Note: Debugging will proceed. Set PYDEVD_DISABLE_FILE_VALIDATION=1 to disable this validation.\n",
      "\u001b[1;31mBad address (C:\\projects\\libzmq\\src\\epoll.cpp:100). \n",
      "\u001b[1;31mView Jupyter <a href='command:jupyter.viewOutput'>log</a> for further details."
     ]
    }
   ],
   "source": [
    "from collections import Counter\n",
    "import pandas as pd\n",
    "resAmnts = list()\n",
    "#resAmnts = pd.DataFrame()\n",
    "for i in range(0, len(resOccurrences)):\n",
    "    occDict = dict(Counter(resOccurrences[i]))\n",
    "    occurrenceFrame = pd.DataFrame()\n",
    "    occurrenceFrame[\"Resolution\"] = occDict.keys()\n",
    "    occurrenceFrame[\"Occurrences\"] = occDict.values()\n",
    "    totalOccurrences = occurrenceFrame[\"Occurrences\"].sum()\n",
    "    occurrenceFrame[\"Proportion\"] = occurrenceFrame[\"Occurrences\"] / totalOccurrences\n",
    "    resAmnts.append(occurrenceFrame)"
   ]
  },
  {
   "cell_type": "code",
   "execution_count": null,
   "id": "75fe3989-c85a-4948-9cc5-293b86561106",
   "metadata": {},
   "outputs": [
    {
     "ename": "",
     "evalue": "",
     "output_type": "error",
     "traceback": [
      "\u001b[1;31mFailed to start the Kernel. \n",
      "\u001b[1;31m0.01s - Debugger warning: It seems that frozen modules are being used, which may\n",
      "\u001b[1;31m0.00s - make the debugger miss breakpoints. Please pass -Xfrozen_modules=off\n",
      "\u001b[1;31m0.00s - to python to disable frozen modules.\n",
      "\u001b[1;31m0.00s - Note: Debugging will proceed. Set PYDEVD_DISABLE_FILE_VALIDATION=1 to disable this validation.\n",
      "\u001b[1;31mBad address (C:\\projects\\libzmq\\src\\epoll.cpp:100). \n",
      "\u001b[1;31mView Jupyter <a href='command:jupyter.viewOutput'>log</a> for further details."
     ]
    }
   ],
   "source": [
    "resAmnts[0]"
   ]
  },
  {
   "cell_type": "code",
   "execution_count": null,
   "id": "8200270a-389b-4b5f-958a-e52781d47cdd",
   "metadata": {},
   "outputs": [
    {
     "ename": "",
     "evalue": "",
     "output_type": "error",
     "traceback": [
      "\u001b[1;31mFailed to start the Kernel. \n",
      "\u001b[1;31m0.01s - Debugger warning: It seems that frozen modules are being used, which may\n",
      "\u001b[1;31m0.00s - make the debugger miss breakpoints. Please pass -Xfrozen_modules=off\n",
      "\u001b[1;31m0.00s - to python to disable frozen modules.\n",
      "\u001b[1;31m0.00s - Note: Debugging will proceed. Set PYDEVD_DISABLE_FILE_VALIDATION=1 to disable this validation.\n",
      "\u001b[1;31mBad address (C:\\projects\\libzmq\\src\\epoll.cpp:100). \n",
      "\u001b[1;31mView Jupyter <a href='command:jupyter.viewOutput'>log</a> for further details."
     ]
    }
   ],
   "source": [
    "resAmnts[0].loc[resAmnts[0][\"Occurrences\"].idxmax()]\n",
    "#resAmnts[0].loc[Occurrences == resAmnts[0][\"Occurrences\"]"
   ]
  },
  {
   "cell_type": "code",
   "execution_count": null,
   "id": "93c748ac-a91d-48f0-9d62-16ad640e962c",
   "metadata": {},
   "outputs": [
    {
     "ename": "",
     "evalue": "",
     "output_type": "error",
     "traceback": [
      "\u001b[1;31mFailed to start the Kernel. \n",
      "\u001b[1;31m0.01s - Debugger warning: It seems that frozen modules are being used, which may\n",
      "\u001b[1;31m0.00s - make the debugger miss breakpoints. Please pass -Xfrozen_modules=off\n",
      "\u001b[1;31m0.00s - to python to disable frozen modules.\n",
      "\u001b[1;31m0.00s - Note: Debugging will proceed. Set PYDEVD_DISABLE_FILE_VALIDATION=1 to disable this validation.\n",
      "\u001b[1;31mBad address (C:\\projects\\libzmq\\src\\epoll.cpp:100). \n",
      "\u001b[1;31mView Jupyter <a href='command:jupyter.viewOutput'>log</a> for further details."
     ]
    }
   ],
   "source": [
    "resAmnts[1]"
   ]
  },
  {
   "cell_type": "code",
   "execution_count": null,
   "id": "2f826815-5355-4885-b5f9-4f2fe894ffb6",
   "metadata": {},
   "outputs": [
    {
     "ename": "",
     "evalue": "",
     "output_type": "error",
     "traceback": [
      "\u001b[1;31mFailed to start the Kernel. \n",
      "\u001b[1;31m0.01s - Debugger warning: It seems that frozen modules are being used, which may\n",
      "\u001b[1;31m0.00s - make the debugger miss breakpoints. Please pass -Xfrozen_modules=off\n",
      "\u001b[1;31m0.00s - to python to disable frozen modules.\n",
      "\u001b[1;31m0.00s - Note: Debugging will proceed. Set PYDEVD_DISABLE_FILE_VALIDATION=1 to disable this validation.\n",
      "\u001b[1;31mBad address (C:\\projects\\libzmq\\src\\epoll.cpp:100). \n",
      "\u001b[1;31mView Jupyter <a href='command:jupyter.viewOutput'>log</a> for further details."
     ]
    }
   ],
   "source": [
    "resAmnts[2]"
   ]
  },
  {
   "cell_type": "code",
   "execution_count": null,
   "id": "388f431c-b967-4831-98a1-5456b528a9b5",
   "metadata": {},
   "outputs": [
    {
     "ename": "",
     "evalue": "",
     "output_type": "error",
     "traceback": [
      "\u001b[1;31mFailed to start the Kernel. \n",
      "\u001b[1;31m0.01s - Debugger warning: It seems that frozen modules are being used, which may\n",
      "\u001b[1;31m0.00s - make the debugger miss breakpoints. Please pass -Xfrozen_modules=off\n",
      "\u001b[1;31m0.00s - to python to disable frozen modules.\n",
      "\u001b[1;31m0.00s - Note: Debugging will proceed. Set PYDEVD_DISABLE_FILE_VALIDATION=1 to disable this validation.\n",
      "\u001b[1;31mBad address (C:\\projects\\libzmq\\src\\epoll.cpp:100). \n",
      "\u001b[1;31mView Jupyter <a href='command:jupyter.viewOutput'>log</a> for further details."
     ]
    }
   ],
   "source": [
    "import plotly.express as px\n",
    "\n",
    "fig = px.ecdf(resOccurrences[0], ecdfnorm = \"percent\")\n",
    "#fig.data\n",
    "#fig.data[0].line.color = \"red\"\n",
    "#fig.data[1].line.color = \"green\"\n",
    "#fig.data[2].line.color = \"blue\"\n",
    "#fig.update_xaxes(categoryorder = \"array\", categoryarray = [\"480x270\", \"640x360\", \"960x540\", \"1280x720\", \"1920x1080\", \"3840x2160\"])\n",
    "fig.update_xaxes(title = \"Resolution\")\n",
    "fig.show()"
   ]
  },
  {
   "cell_type": "markdown",
   "id": "6c691a53-65ee-4a7f-bbcc-29e903504f44",
   "metadata": {},
   "source": [
    "## RTT Time"
   ]
  },
  {
   "cell_type": "code",
   "execution_count": null,
   "id": "8faf3ccf-ab83-45de-bd6a-2686caac2e9d",
   "metadata": {},
   "outputs": [
    {
     "ename": "",
     "evalue": "",
     "output_type": "error",
     "traceback": [
      "\u001b[1;31mFailed to start the Kernel. \n",
      "\u001b[1;31m0.01s - Debugger warning: It seems that frozen modules are being used, which may\n",
      "\u001b[1;31m0.00s - make the debugger miss breakpoints. Please pass -Xfrozen_modules=off\n",
      "\u001b[1;31m0.00s - to python to disable frozen modules.\n",
      "\u001b[1;31m0.00s - Note: Debugging will proceed. Set PYDEVD_DISABLE_FILE_VALIDATION=1 to disable this validation.\n",
      "\u001b[1;31mBad address (C:\\projects\\libzmq\\src\\epoll.cpp:100). \n",
      "\u001b[1;31mView Jupyter <a href='command:jupyter.viewOutput'>log</a> for further details."
     ]
    }
   ],
   "source": [
    "import os\n",
    "import csv\n",
    "import numpy as np\n",
    "\n",
    "conf_interval = 0.95\n",
    "\n",
    "def calculate_rtt(folder_path):\n",
    "    folder_path = folder_path\n",
    "    #run_folders = [\"Run0\", \"Run1\", \"Run2\"]\n",
    "    #run_folders = [filename for filename in os.listdir(dir_path) if filename.startswith(\"Tester_\") and filename.endswith(\".log\")]\n",
    "    rtt_list = []\n",
    "\n",
    "    for run_folder in run_folders:\n",
    "        file_path = os.path.join(folder_path, run_folder, \"UDPing_log.csv\")\n",
    "        with open(file_path, \"r\") as csv_file:\n",
    "            csv_reader = csv.reader(csv_file)\n",
    "            next(csv_reader) # skip \"Pinging...\" row\n",
    "            next(csv_reader) # skip \"empty\" row\n",
    "            next(csv_reader) # skip header row\n",
    "            for row in csv_reader:\n",
    "                if \"Ping statistics\" in row[0]:\n",
    "                    break\n",
    "                rtt_list.append(float(row[2]))\n",
    "\n",
    "    mean_rtt = np.mean(rtt_list)\n",
    "    mean_rtt_conf = st.norm.interval(alpha = conf_interval, loc = mean_rtt, scale = st.sem(rtt_list))\n",
    "    std_rtt = np.std(rtt_list)\n",
    "    #avg_stall_cts_conf.append(st.norm.interval(alpha = conf_interval, loc = avg_cts, scale = st.sem(seglen_aggregate_stall_counts)))\n",
    "\n",
    "    return (mean_rtt, mean_rtt_conf, std_rtt)\n",
    "\n",
    "mean_rtt, mean_rtt_conf, std_rtt = calculate_rtt(\"./10s\")\n",
    "print(\"Mean RTT:\", mean_rtt)\n",
    "print(\"Mean RTT confidence interval:\", mean_rtt_conf)\n",
    "print(\"Standard deviation of RTT:\", std_rtt)"
   ]
  },
  {
   "cell_type": "code",
   "execution_count": null,
   "id": "8ee40d98-cb82-493b-8eac-de59dc96f48f",
   "metadata": {},
   "outputs": [
    {
     "ename": "",
     "evalue": "",
     "output_type": "error",
     "traceback": [
      "\u001b[1;31mFailed to start the Kernel. \n",
      "\u001b[1;31m0.01s - Debugger warning: It seems that frozen modules are being used, which may\n",
      "\u001b[1;31m0.00s - make the debugger miss breakpoints. Please pass -Xfrozen_modules=off\n",
      "\u001b[1;31m0.00s - to python to disable frozen modules.\n",
      "\u001b[1;31m0.00s - Note: Debugging will proceed. Set PYDEVD_DISABLE_FILE_VALIDATION=1 to disable this validation.\n",
      "\u001b[1;31mBad address (C:\\projects\\libzmq\\src\\epoll.cpp:100). \n",
      "\u001b[1;31mView Jupyter <a href='command:jupyter.viewOutput'>log</a> for further details."
     ]
    }
   ],
   "source": [
    "import os\n",
    "import csv\n",
    "import numpy as np\n",
    "\n",
    "def calculate_rtt(folder_path):\n",
    "    folder_path = folder_path\n",
    "    #run_folders = [\"Run0\", \"Run1\", \"Run2\"]\n",
    "    run_folders = [\"Results_2023-02-27T00_23_03.144711_glomma\", \"Results_2023-02-27T01_58_06.647754_glomma\", \"Results_2023-02-27T02_16_01.406052_glomma\"]\n",
    "    packet_loss_seqs=[]\n",
    "    rtt_list = []\n",
    "    receive_rates =[]\n",
    "    prev_seq=-9999\n",
    "\n",
    "    for run_folder in run_folders:\n",
    "        file_path = os.path.join(folder_path, run_folder, \"UDPing_log.csv\")\n",
    "        with open(file_path, \"r\") as csv_file:\n",
    "            csv_reader = csv.reader(csv_file)\n",
    "            next(csv_reader) # skip \"Pinging...\" row\n",
    "            next(csv_reader) # skip \"empty\" row\n",
    "            next(csv_reader) # skip header row\n",
    "            for row in csv_reader:\n",
    "                if \"Ping statistics\" in row[0]:\n",
    "                    break\n",
    "                rtt = float(row[2])\n",
    "                rtt_list.append(rtt)\n",
    "\n",
    "                seq = int(row[3])\n",
    "                if prev_seq != -9999 and seq != prev_seq + 1:\n",
    "                    packet_loss_seqs.append(seq)\n",
    "                prev_seq = seq\n",
    "\n",
    "\n",
    "            send=int(csv_reader.__next__()[1])\n",
    "            receive=int(csv_reader.__next__()[1])\n",
    "            if receive == 0:\n",
    "                receive_rates.append(0) # There are cases that all packets got lost.\n",
    "            else:\n",
    "                receive_rates.append(send/receive)\n",
    "\n",
    "    mean_rtt = np.mean(rtt_list)\n",
    "    std_rtt = np.std(rtt_list)\n",
    "    mean_receive_rate=np.mean(receive_rates)\n",
    "    std_receive_rate=np.std(receive_rates)\n",
    "\n",
    "    return (mean_rtt, std_rtt,mean_receive_rate,std_receive_rate, packet_loss_seqs)\n",
    "\n",
    "mean_rtt, std_rtt, mean_receive_rate, std_receive_rate, packet_loss_seqs= calculate_rtt(\"./5s\")\n",
    "print(\"Mean RTT:\", mean_rtt)\n",
    "print(\"Standard deviation of RTT:\", std_rtt)\n",
    "print(\"Mean Receive rate:\", mean_receive_rate)\n",
    "print(\"Standard deviation of Receive rate:\", std_receive_rate)\n",
    "print(\"Packet loss sequences:\", packet_loss_seqs)"
   ]
  },
  {
   "cell_type": "code",
   "execution_count": null,
   "id": "723b9c77-1b39-46cc-98e0-098cc2cc7678",
   "metadata": {},
   "outputs": [
    {
     "ename": "",
     "evalue": "",
     "output_type": "error",
     "traceback": [
      "\u001b[1;31mFailed to start the Kernel. \n",
      "\u001b[1;31m0.01s - Debugger warning: It seems that frozen modules are being used, which may\n",
      "\u001b[1;31m0.00s - make the debugger miss breakpoints. Please pass -Xfrozen_modules=off\n",
      "\u001b[1;31m0.00s - to python to disable frozen modules.\n",
      "\u001b[1;31m0.00s - Note: Debugging will proceed. Set PYDEVD_DISABLE_FILE_VALIDATION=1 to disable this validation.\n",
      "\u001b[1;31mBad address (C:\\projects\\libzmq\\src\\epoll.cpp:100). \n",
      "\u001b[1;31mView Jupyter <a href='command:jupyter.viewOutput'>log</a> for further details."
     ]
    }
   ],
   "source": [
    "import os\n",
    "import csv\n",
    "import numpy as np\n",
    "\n",
    "def calculate_rtt(folder_path):\n",
    "    folder_path = folder_path\n",
    "    #run_folders = [\"Run0\", \"Run1\", \"Run2\"]\n",
    "    run_folders = [\"Results_2023-02-27T00_23_03.144711_glomma\", \"Results_2023-02-27T01_58_06.647754_glomma\", \"Results_2023-02-27T02_16_01.406052_glomma\"]\n",
    "    all_packet_loss_seqs=[]\n",
    "    rtt_list = []\n",
    "    receive_rates =[]\n",
    "\n",
    "    for run_folder in run_folders:\n",
    "        prev_seq=-9999\n",
    "        packet_loss_seqs=[]\n",
    "        file_path = os.path.join(folder_path, run_folder, \"UDPing_log.csv\")\n",
    "        with open(file_path, \"r\") as csv_file:\n",
    "            csv_reader = csv.reader(csv_file)\n",
    "            next(csv_reader) # skip \"Pinging...\" row\n",
    "            next(csv_reader) # skip \"empty\" row\n",
    "            next(csv_reader) # skip header row\n",
    "            for row in csv_reader:\n",
    "                if \"Ping statistics\" in row[0]:\n",
    "                    break\n",
    "                rtt = float(row[2])\n",
    "                rtt_list.append(rtt)\n",
    "\n",
    "                seq = int(row[3])\n",
    "                if prev_seq != -9999 and seq != prev_seq + 1:\n",
    "                    packet_loss_seqs.append(seq)\n",
    "                prev_seq = seq\n",
    "\n",
    "\n",
    "            all_packet_loss_seqs.append(packet_loss_seqs)\n",
    "            send=int(csv_reader.__next__()[1])\n",
    "            receive=int(csv_reader.__next__()[1])\n",
    "            if receive == 0:\n",
    "                receive_rates.append(0) # There are cases that all packets got lost.\n",
    "            else:\n",
    "                receive_rates.append(send/receive)\n",
    "\n",
    "\n",
    "    mean_rtt = np.mean(rtt_list)\n",
    "    std_rtt = np.std(rtt_list)\n",
    "    mean_receive_rate=np.mean(receive_rates)\n",
    "    std_receive_rate=np.std(receive_rates)\n",
    "\n",
    "    return (mean_rtt, std_rtt,mean_receive_rate,std_receive_rate, all_packet_loss_seqs)\n",
    "\n",
    "mean_rtt, std_rtt, mean_receive_rate, std_receive_rate, packet_loss_seqs= calculate_rtt(\"./5s\")\n",
    "print(\"Mean RTT:\", mean_rtt)\n",
    "print(\"Standard deviation of RTT:\", std_rtt)\n",
    "print(\"Mean Receive rate:\", mean_receive_rate)\n",
    "print(\"Standard deviation of Receive rate:\", std_receive_rate)\n",
    "print(\"Packet loss sequences:\", packet_loss_seqs)"
   ]
  },
  {
   "cell_type": "code",
   "execution_count": null,
   "id": "5a2ab33e-7b7d-42bd-bc94-80ee1a0b3b6c",
   "metadata": {},
   "outputs": [
    {
     "ename": "",
     "evalue": "",
     "output_type": "error",
     "traceback": [
      "\u001b[1;31mFailed to start the Kernel. \n",
      "\u001b[1;31m0.01s - Debugger warning: It seems that frozen modules are being used, which may\n",
      "\u001b[1;31m0.00s - make the debugger miss breakpoints. Please pass -Xfrozen_modules=off\n",
      "\u001b[1;31m0.00s - to python to disable frozen modules.\n",
      "\u001b[1;31m0.00s - Note: Debugging will proceed. Set PYDEVD_DISABLE_FILE_VALIDATION=1 to disable this validation.\n",
      "\u001b[1;31mBad address (C:\\projects\\libzmq\\src\\epoll.cpp:100). \n",
      "\u001b[1;31mView Jupyter <a href='command:jupyter.viewOutput'>log</a> for further details."
     ]
    }
   ],
   "source": [
    "import os\n",
    "import csv\n",
    "import numpy as np\n",
    "\n",
    "def calculate_rtt(folder_path):\n",
    "    folder_path = folder_path\n",
    "    #run_folders = [\"Run0\", \"Run1\", \"Run2\"]\n",
    "    run_folders = [\"Results_2023-02-27T00_23_03.144711_glomma\", \"Results_2023-02-27T01_58_06.647754_glomma\", \"Results_2023-02-27T02_16_01.406052_glomma\"]\n",
    "    all_packet_loss_seqs=[]\n",
    "    rtt_list = []\n",
    "    receive_rates =[]\n",
    "\n",
    "    for run_folder in run_folders:\n",
    "        file_path = os.path.join(folder_path, run_folder, \"UDPing_log.csv\")\n",
    "        with open(file_path, \"r\") as csv_file:\n",
    "            csv_reader = csv.reader(csv_file)\n",
    "            next(csv_reader) # skip \"Pinging...\" row\n",
    "            next(csv_reader) # skip \"empty\" row\n",
    "            next(csv_reader) # skip header row\n",
    "            for row in csv_reader:\n",
    "                if \"Ping statistics\" in row[0]:\n",
    "                    break\n",
    "                rtt = float(row[2])\n",
    "                rtt_list.append(rtt)\n",
    "\n",
    "            send=int(csv_reader.__next__()[1])\n",
    "            receive=int(csv_reader.__next__()[1])\n",
    "            if receive == 0:\n",
    "                receive_rates.append(0) # There are cases that all packets got lost.\n",
    "            else:\n",
    "                receive_rates.append(send/receive)\n",
    "\n",
    "        with open(file_path, \"r\") as csv_file:\n",
    "            csv_reader = csv.reader(csv_file)\n",
    "            prev_seq=-9999\n",
    "            packet_loss_seqs=[]\n",
    "            next(csv_reader)  # skip \"Pinging...\" row\n",
    "            next(csv_reader)  # skip \"empty\" row\n",
    "            next(csv_reader)  # skip header row\n",
    "            for row in csv_reader:\n",
    "                if \"Ping statistics\" in row[0]:\n",
    "                    break\n",
    "\n",
    "                seq = int(row[3])\n",
    "                if prev_seq != -9999 and seq != prev_seq + 1:\n",
    "                    packet_loss_seqs.append(seq)\n",
    "                prev_seq = seq\n",
    "\n",
    "            print(packet_loss_seqs)\n",
    "            all_packet_loss_seqs.append(packet_loss_seqs)\n",
    "\n",
    "\n",
    "    mean_rtt = np.mean(rtt_list)\n",
    "    std_rtt = np.std(rtt_list)\n",
    "    mean_receive_rate=np.mean(receive_rates)\n",
    "    std_receive_rate=np.std(receive_rates)\n",
    "\n",
    "    return (mean_rtt, std_rtt,mean_receive_rate,std_receive_rate, all_packet_loss_seqs)\n",
    "mean_rtt, std_rtt, mean_receive_rate, std_receive_rate, packet_loss_seqs= calculate_rtt(\"./5s\")\n",
    "print(\"Mean RTT:\", mean_rtt)\n",
    "print(\"Standard deviation of RTT:\", std_rtt)\n",
    "print(\"Mean Receive rate:\", mean_receive_rate)\n",
    "print(\"Standard deviation of Receive rate:\", std_receive_rate)\n",
    "print(\"Packet loss sequences:\", packet_loss_seqs)"
   ]
  },
  {
   "cell_type": "markdown",
   "id": "ad5523c7-11ea-4d86-94af-2f13ef0d9af6",
   "metadata": {},
   "source": [
    "## Time to Start Playing"
   ]
  },
  {
   "cell_type": "code",
   "execution_count": null,
   "id": "e96f9176-a19c-40f3-ae98-128119edc6e2",
   "metadata": {},
   "outputs": [
    {
     "ename": "",
     "evalue": "",
     "output_type": "error",
     "traceback": [
      "\u001b[1;31mFailed to start the Kernel. \n",
      "\u001b[1;31m0.01s - Debugger warning: It seems that frozen modules are being used, which may\n",
      "\u001b[1;31m0.00s - make the debugger miss breakpoints. Please pass -Xfrozen_modules=off\n",
      "\u001b[1;31m0.00s - to python to disable frozen modules.\n",
      "\u001b[1;31m0.00s - Note: Debugging will proceed. Set PYDEVD_DISABLE_FILE_VALIDATION=1 to disable this validation.\n",
      "\u001b[1;31mBad address (C:\\projects\\libzmq\\src\\epoll.cpp:100). \n",
      "\u001b[1;31mView Jupyter <a href='command:jupyter.viewOutput'>log</a> for further details."
     ]
    }
   ],
   "source": [
    "import os\n",
    "import re\n",
    "\n",
    "log_video_time_pattern = re.compile(\"^LOG  ([\\d\\.]+),([\\d\\.]+):.+$\")\n",
    "#stall_pattern = re.compile(\"^STALL  ([\\d]+) ms and stopped at [\\d\\.]+ sec\", re.M)\n",
    "\n",
    "def ComputeTimeToStart(dir_path):\n",
    "    jsLog_names = [filename for filename in os.listdir(dir_path) if filename.startswith(\"Tester_\") and filename.endswith(\".log\")]\n",
    "    if len(jsLog_names) != 1:\n",
    "        return\n",
    "    jsLog_name = jsLog_names[0]\n",
    "    jsLog = open(os.path.join(dir_path, jsLog_name), \"r\")\n",
    "    \n",
    "    # Read through all the lines.\n",
    "    while line := jsLog.readline():\n",
    "        match = log_video_time_pattern.match(line)\n",
    "        if match:\n",
    "            absolute_time = float(match.group(1))\n",
    "            video_time = float(match.group(2))\n",
    "            if video_time > 0:\n",
    "                # We've found when the video started playing.\n",
    "                return absolute_time\n",
    "    \n",
    "    return -1"
   ]
  },
  {
   "cell_type": "code",
   "execution_count": null,
   "id": "41e1526a-b1c5-40df-8534-6250fbe7b823",
   "metadata": {},
   "outputs": [
    {
     "ename": "",
     "evalue": "",
     "output_type": "error",
     "traceback": [
      "\u001b[1;31mFailed to start the Kernel. \n",
      "\u001b[1;31m0.01s - Debugger warning: It seems that frozen modules are being used, which may\n",
      "\u001b[1;31m0.00s - make the debugger miss breakpoints. Please pass -Xfrozen_modules=off\n",
      "\u001b[1;31m0.00s - to python to disable frozen modules.\n",
      "\u001b[1;31m0.00s - Note: Debugging will proceed. Set PYDEVD_DISABLE_FILE_VALIDATION=1 to disable this validation.\n",
      "\u001b[1;31mBad address (C:\\projects\\libzmq\\src\\epoll.cpp:100). \n",
      "\u001b[1;31mView Jupyter <a href='command:jupyter.viewOutput'>log</a> for further details."
     ]
    }
   ],
   "source": [
    "import numpy as np\n",
    "import scipy.stats as st\n",
    "\n",
    "conf_interval = 0.95\n",
    "seg_lens = [\"5s\", \"10s\", \"20s\"]\n",
    "\n",
    "avg_start_times_sec = list()\n",
    "avg_start_times_sec_conf = list()\n",
    "stdev_start_times_sec = list()\n",
    "\n",
    "for seg_len in seg_lens:\n",
    "    dir_path = \"./{seg_len}\".format(seg_len = seg_len)\n",
    "    \n",
    "    start_times_sec = list()\n",
    "    \n",
    "    for file_name in os.listdir(dir_path):\n",
    "        file_path = os.path.join(dir_path, file_name)\n",
    "        if not os.path.isdir(file_path): # Only looking to read directories (that are symlinks).\n",
    "            continue\n",
    "        start_time_sec = ComputeTimeToStart(file_path)\n",
    "        start_times_sec.append(start_time_sec)\n",
    "    \n",
    "    avg_start_time_sec = np.mean(start_times_sec)\n",
    "    avg_start_times_sec.append(avg_start_time_sec)\n",
    "    #avg_start_times_sec_conf.append(st.norm.interval(alpha = conf_interval, loc = avg_start_time_sec, scale = st.sem(start_times_sec)))\n",
    "    avg_start_times_sec_conf.append(st.t.interval(alpha = conf_interval,\n",
    "                                                  df = len(start_times_sec) - 1,\n",
    "                                                  loc = avg_start_time_sec,\n",
    "                                                  scale = st.sem(start_times_sec)))\n",
    "    stdev_start_times_sec.append(np.std(start_times_sec))"
   ]
  },
  {
   "cell_type": "code",
   "execution_count": null,
   "id": "ecd64b7a-53ac-4967-8a3a-20526e69897d",
   "metadata": {},
   "outputs": [
    {
     "ename": "",
     "evalue": "",
     "output_type": "error",
     "traceback": [
      "\u001b[1;31mFailed to start the Kernel. \n",
      "\u001b[1;31m0.01s - Debugger warning: It seems that frozen modules are being used, which may\n",
      "\u001b[1;31m0.00s - make the debugger miss breakpoints. Please pass -Xfrozen_modules=off\n",
      "\u001b[1;31m0.00s - to python to disable frozen modules.\n",
      "\u001b[1;31m0.00s - Note: Debugging will proceed. Set PYDEVD_DISABLE_FILE_VALIDATION=1 to disable this validation.\n",
      "\u001b[1;31mBad address (C:\\projects\\libzmq\\src\\epoll.cpp:100). \n",
      "\u001b[1;31mView Jupyter <a href='command:jupyter.viewOutput'>log</a> for further details."
     ]
    }
   ],
   "source": [
    "avg_start_times_sec"
   ]
  },
  {
   "cell_type": "code",
   "execution_count": null,
   "id": "01184196-31bb-4b55-9690-5204dde2a3ab",
   "metadata": {},
   "outputs": [
    {
     "ename": "",
     "evalue": "",
     "output_type": "error",
     "traceback": [
      "\u001b[1;31mFailed to start the Kernel. \n",
      "\u001b[1;31m0.01s - Debugger warning: It seems that frozen modules are being used, which may\n",
      "\u001b[1;31m0.00s - make the debugger miss breakpoints. Please pass -Xfrozen_modules=off\n",
      "\u001b[1;31m0.00s - to python to disable frozen modules.\n",
      "\u001b[1;31m0.00s - Note: Debugging will proceed. Set PYDEVD_DISABLE_FILE_VALIDATION=1 to disable this validation.\n",
      "\u001b[1;31mBad address (C:\\projects\\libzmq\\src\\epoll.cpp:100). \n",
      "\u001b[1;31mView Jupyter <a href='command:jupyter.viewOutput'>log</a> for further details."
     ]
    }
   ],
   "source": [
    "avg_start_times_sec_conf"
   ]
  },
  {
   "cell_type": "code",
   "execution_count": null,
   "id": "3938d92f-cd6a-427f-bce6-1abbf86644ee",
   "metadata": {},
   "outputs": [
    {
     "ename": "",
     "evalue": "",
     "output_type": "error",
     "traceback": [
      "\u001b[1;31mFailed to start the Kernel. \n",
      "\u001b[1;31m0.01s - Debugger warning: It seems that frozen modules are being used, which may\n",
      "\u001b[1;31m0.00s - make the debugger miss breakpoints. Please pass -Xfrozen_modules=off\n",
      "\u001b[1;31m0.00s - to python to disable frozen modules.\n",
      "\u001b[1;31m0.00s - Note: Debugging will proceed. Set PYDEVD_DISABLE_FILE_VALIDATION=1 to disable this validation.\n",
      "\u001b[1;31mBad address (C:\\projects\\libzmq\\src\\epoll.cpp:100). \n",
      "\u001b[1;31mView Jupyter <a href='command:jupyter.viewOutput'>log</a> for further details."
     ]
    }
   ],
   "source": [
    "stdev_start_times_sec"
   ]
  },
  {
   "cell_type": "code",
   "execution_count": null,
   "id": "71551686-de20-4985-9298-65b16621cc50",
   "metadata": {},
   "outputs": [
    {
     "ename": "",
     "evalue": "",
     "output_type": "error",
     "traceback": [
      "\u001b[1;31mFailed to start the Kernel. \n",
      "\u001b[1;31m0.01s - Debugger warning: It seems that frozen modules are being used, which may\n",
      "\u001b[1;31m0.00s - make the debugger miss breakpoints. Please pass -Xfrozen_modules=off\n",
      "\u001b[1;31m0.00s - to python to disable frozen modules.\n",
      "\u001b[1;31m0.00s - Note: Debugging will proceed. Set PYDEVD_DISABLE_FILE_VALIDATION=1 to disable this validation.\n",
      "\u001b[1;31mBad address (C:\\projects\\libzmq\\src\\epoll.cpp:100). \n",
      "\u001b[1;31mView Jupyter <a href='command:jupyter.viewOutput'>log</a> for further details."
     ]
    }
   ],
   "source": []
  }
 ],
 "metadata": {
  "kernelspec": {
   "display_name": "Python 3",
   "language": "python",
   "name": "python3"
  },
  "language_info": {
   "codemirror_mode": {
    "name": "ipython",
    "version": 3
   },
   "file_extension": ".py",
   "mimetype": "text/x-python",
   "name": "python",
   "nbconvert_exporter": "python",
   "pygments_lexer": "ipython3",
   "version": "3.11.0"
  }
 },
 "nbformat": 4,
 "nbformat_minor": 5
}
